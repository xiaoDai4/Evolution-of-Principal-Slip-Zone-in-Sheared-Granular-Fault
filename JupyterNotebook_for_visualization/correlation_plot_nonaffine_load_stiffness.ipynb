{
 "cells": [
  {
   "cell_type": "code",
   "execution_count": 2,
   "id": "1b9fe763",
   "metadata": {},
   "outputs": [],
   "source": [
    "#  import package and data, set wd\n",
    "import matplotlib.pyplot as plt\n",
    "import numpy as np\n",
    "import os\n",
    "import math\n",
    "import pandas as pd\n",
    "from scipy.optimize import curve_fit\n"
   ]
  },
  {
   "cell_type": "code",
   "execution_count": 3,
   "id": "0feca706",
   "metadata": {},
   "outputs": [],
   "source": [
    "#  set parameters\n",
    "\n",
    "#  work path\n",
    "wd_ = 'C:/Users/daizh/manuscript_shear_structure_formation_different_conditions/python_file'\n",
    "\n",
    "# define the average d of balls\n",
    "d_average_ = 2.5e-5\n",
    "\n",
    "#%% define file to be plotted\n",
    "list_filename_ = ['D:/sheared_granular_gouge_different_evironment_condition/python_correlation_data/correlation_of_nonaffine_of_20MPa_0p5_from_217_to_297.npy',\n",
    "                 'D:/sheared_granular_gouge_different_evironment_condition/python_correlation_data/correlation_of_nonaffine_of_2k_0p5_from_173_to_253.npy',\n",
    "                 'D:/sheared_granular_gouge_different_evironment_condition/python_correlation_data/correlation_of_nonaffine_of_4k_0p5_from_147_to_227.npy',\n",
    "                 'D:/sheared_granular_gouge_different_evironment_condition/python_correlation_data/correlation_of_nonaffine_of_20k_0p5_from_129_to_209.npy',\n",
    "                 'D:/sheared_granular_gouge_different_evironment_condition/python_correlation_data/correlation_of_nonaffine_of_80k_0p5_from_126_to_206.npy']\n",
    "\n",
    "path_nonaffines_ = ['D:/sheared_granular_gouge_different_evironment_condition/python_nonaffine_displacement_data/nonaffine_of_20MPa_0p5_from_217_to_297.npy',\n",
    "                 'D:/sheared_granular_gouge_different_evironment_condition/python_nonaffine_displacement_data/nonaffine_of_2k_0p5_from_173_to_253.npy',\n",
    "                 'D:/sheared_granular_gouge_different_evironment_condition/python_nonaffine_displacement_data/nonaffine_of_4k_0p5_from_147_to_227.npy',\n",
    "                 'D:/sheared_granular_gouge_different_evironment_condition/python_nonaffine_displacement_data/nonaffine_of_20k_0p5_from_129_to_209.npy',\n",
    "                 'D:/sheared_granular_gouge_different_evironment_condition/python_nonaffine_displacement_data/nonaffine_of_80k_0p5_from_126_to_206.npy']\n",
    "colors_ = ['g', 'b', 'darkorange', 'm', 'k']\n",
    "if len(list_filename_) != len(colors_):\n",
    "    print('The program terminated!!!\\nThe size of \\'list_filename_\\' and \\'colors_\\' is not the same')\n",
    "    sys.exit()\n",
    "labels_ = ['k$_{0}$',\n",
    "          '2k$_{0}$',\n",
    "          '4k$_{0}$',\n",
    "          '20k$_{0}$',\n",
    "          '80k$_{0}$']\n",
    "if len(list_filename_) != len(labels_):\n",
    "    print('The program terminated!!!\\nThe size of \\'list_filename_\\' and \\'colors_\\' is not the same')\n",
    "    sys.exit()   \n",
    "# correlation length\n",
    "correlation_length_ = [] # record the correlation length here\n",
    "\n",
    "\n",
    "#%% define index to be calculated\n",
    "#  define path\n",
    "path_particles_ = ['D:/sheared_granular_gouge_different_evironment_condition/normal_stress/20MPa/particle_info/particle_info_%d.txt',\n",
    "                 'D:/sheared_granular_gouge_different_evironment_condition/k/2k/particle_info/particle_info_%d.txt',\n",
    "                 'D:/sheared_granular_gouge_different_evironment_condition/k/4k/particle_info/particle_info_%d.txt',\n",
    "                 'D:/sheared_granular_gouge_different_evironment_condition/k/20k/particle_info/particle_info_%d.txt',\n",
    "                 'D:/sheared_granular_gouge_different_evironment_condition/k/80k/particle_info/particle_info_%d.txt']\n",
    "index_former_ = [217, 173, 147, 129, 126]\n",
    "index_later_ = [297, 253, 227, 209, 206]\n",
    "if len(index_former_) != len(index_later_):\n",
    "    print('The program terminated!!!\\nThe size of \\'index_former\\' and \\'index_later\\' is not the same')\n",
    "    sys.exit()\n",
    "    \n",
    "# set the mesh grid\n",
    "precision_ = 100\n",
    "x_lol_ = 0.5e-3 # lower limit of x\n",
    "x_upl_ = 3.5e-3 # upper limit of x\n",
    "y_lol_ = 1e-3 # lower limit of y\n",
    "y_upl_ = 3e-3 # upper limit of y\n",
    "xx_ = np.linspace(x_lol_,x_upl_, num = 2 * precision_)\n",
    "yy_ = np.linspace(y_lol_,y_upl_, num = precision_)\n",
    "grid_xx_, grid_yy_ = np.meshgrid(xx_, yy_)\n",
    "\n",
    "# set the translate threshold\n",
    "thresh_trans_ = 0\n",
    "\n",
    "\n",
    "# set the filter extrem threshold\n",
    "thresh_ = float('Inf')\n",
    "\n",
    "# set the plot parameter\n",
    "# the fit function\n",
    "def func(x, a):\n",
    "    return np.exp(a*x)"
   ]
  },
  {
   "cell_type": "code",
   "execution_count": 4,
   "id": "3ddb4157",
   "metadata": {},
   "outputs": [],
   "source": [
    "# change wd and import functions\n",
    "#%% change current directory\n",
    "os.chdir(wd_)\n",
    "# import functions\n",
    "from import_data import *"
   ]
  },
  {
   "cell_type": "code",
   "execution_count": 5,
   "id": "87f65bb6",
   "metadata": {},
   "outputs": [
    {
     "data": {
      "image/png": "[encoded data removed]",
      "text/plain": [
       "<Figure size 187.2x172.8 with 1 Axes>"
      ]
     },
     "metadata": {
      "needs_background": "light"
     },
     "output_type": "display_data"
    }
   ],
   "source": [
    "steps_ = len(list_filename_)\n",
    "plt.figure(figsize=(2.6,2.4))\n",
    "for i_ in range(steps_):\n",
    "#     import data\n",
    "    correlation_ = np.load(list_filename_[i_])\n",
    "    # correlation_: row 0, i.e. correlation_[0, :] is the prescribed mutual distance\n",
    "    # correlation_: row 1, i.e. correlation_[1, :] is the prescribed mutual distance\n",
    "    #     fit and plot\n",
    "    popt, pcov = curve_fit(func, correlation_[0, :] / d_average_, correlation_[1, :])\n",
    "    rr_ = np.linspace(correlation_[0, :][0]/ d_average_,correlation_[0, :][-1]/ d_average_, num = 100)\n",
    "#     plt.plot(rr_, func(rr_, popt),  linewidth = 1, color = colors_[i_])\n",
    "    correlation_length_.append(-1/popt[0])\n",
    "    \n",
    "#     plot\n",
    "    plt.rcParams['xtick.direction'] = 'in'\n",
    "    plt.rcParams['ytick.direction'] = 'in'\n",
    "    plt.rcParams['font.size'] = 9\n",
    "    plt.rc('font', family = 'Arial')\n",
    "\n",
    "    plt.plot(correlation_[0, :] / d_average_, correlation_[1, :],  linewidth = 1, color = colors_[i_], marker = 'o',\n",
    "            label =  labels_[i_] % (-1 / popt[0]))\n",
    "\n",
    "#     plt.ylim(-0.5,1.1)\n",
    "#     plt.axhline(0, linestyle = '--', color = 'r', linewidth = 1)\n",
    "    plt.xlabel('$\\\\mathit{r}$ (d$_{avg}$)', fontsize = 10)\n",
    "    plt.ylabel('$\\\\mathit{C}$' + '$_\\\\mathit{D}$'+ '$_{^\\\\mathrm{2}}$' + '$_{_\\\\mathrm{min}}$($\\\\mathit{r}$)', fontsize = 10)\n",
    "    \n",
    "\n",
    "\n",
    "    \n",
    "    plt.xscale('log')\n",
    "    plt.yscale('log')\n",
    "#     plt.title('Small slip, time = %.2fms ' % ConSV_PlateBottomBeadMiddle_.loc[i_ + index1_,'Time'])\n",
    "    plt.tight_layout()\n",
    "#     plt.savefig('note_book_plot/correlation_of_%s.svg' % os.path.splitext(os.path.basename(list_filename_[i_]))[0], dpi=600, format='svg')\n",
    "#     plt.show()\n",
    "    plt.xlim([10**-1,10])\n",
    "    plt.ylim([0.2,0.6])\n",
    "plt.legend(fontsize = 8, )\n",
    "plt.savefig('C:/Users/daizh/manuscript_shear_structure_formation_different_conditions/python_file/notebook_plot/correlation_load_stiffness.svg', dpi=600, format='svg')"
   ]
  },
  {
   "cell_type": "code",
   "execution_count": 6,
   "id": "de660182",
   "metadata": {
    "scrolled": true
   },
   "outputs": [
    {
     "data": {
      "text/plain": [
       "(2, 30)"
      ]
     },
     "execution_count": 6,
     "metadata": {},
     "output_type": "execute_result"
    }
   ],
   "source": [
    "correlation_.shape"
   ]
  },
  {
   "cell_type": "code",
   "execution_count": null,
   "id": "7b3cfa35",
   "metadata": {},
   "outputs": [],
   "source": []
  },
  {
   "cell_type": "code",
   "execution_count": null,
   "id": "925896ed",
   "metadata": {},
   "outputs": [],
   "source": []
  },
  {
   "cell_type": "code",
   "execution_count": 7,
   "id": "41a462cf",
   "metadata": {},
   "outputs": [],
   "source": [
    "#%% Screen particles according to x to avoid effects caused by BC\n",
    "def screen_grains_by_x(l_lim_, u_lim_, c_, v_):\n",
    "    '''\n",
    "    l_lim_ - lower limit\n",
    "    u_lim_ - upper limit\n",
    "    c_ - c coodinate\n",
    "    v_ - corresponding variables\n",
    "    \n",
    "    returns:\n",
    "        cnew_ - the  coodinate in a centain range\n",
    "        vnew_ - the correspnding coodinate in a certain range\n",
    "    \n",
    "    '''\n",
    "    cnew_, vnew_ = [], [] # initialize\n",
    "    for i_ in range(c_.shape[0]):\n",
    "        \n",
    "        if c_[i_][0] > l_lim_ and c_[i_][0]  < u_lim_:\n",
    "            cnew_.append(c_[i_][:])\n",
    "            vnew_.append(v_[i_])\n",
    "\n",
    "    return np.array(cnew_), np.array(vnew_)  # return handled coodinate and variables.\n",
    "\n",
    "# cnew_, ynew_ = screen_grains_by_x(0.5, 3.5, x_, y_)\n",
    "# cnew_, vnew_ = screen_grains_by_x(0.5, 3.5, x_, vx_)\n"
   ]
  },
  {
   "cell_type": "code",
   "execution_count": 8,
   "id": "5f7fcec5",
   "metadata": {},
   "outputs": [],
   "source": [
    "# define a function to delete extreme value\n",
    "#%% remove extreme value \n",
    "def remove_extreme_value(c_, v_, thresh_, y_lol_, y_upl_):\n",
    "    '''\n",
    "    c_ - c coodinate\n",
    "    v_ - corresponding variables\n",
    "    thresh_ - the threshold\n",
    "    \n",
    "    returns:\n",
    "        cnew_ - the coodinate with no extrem values\n",
    "        vnew_ - the correspnding coodinate \n",
    "    \n",
    "    '''\n",
    "    cnew_, vnew_ = [], [] # initialize\n",
    "    for i_ in range(c_.shape[0]):\n",
    "        if v_[i_] <= thresh_:\n",
    "            if c_[i_][1] < y_upl_:\n",
    "                if c_[i_][1] > y_lol_:\n",
    "                    cnew_.append(c_[i_, :])\n",
    "                    vnew_.append(v_[i_])\n",
    "\n",
    "    return np.array(cnew_), np.array(vnew_)  # return handled coodinate and variables.\n",
    "\n",
    "# cnew_, vnew_ = remove_extreme_value(c_, v_, thresh_)\n"
   ]
  },
  {
   "cell_type": "code",
   "execution_count": 9,
   "id": "b6f8eba9",
   "metadata": {
    "scrolled": true
   },
   "outputs": [
    {
     "name": "stdout",
     "output_type": "stream",
     "text": [
      "\n",
      "Reading particle info 217...\n",
      "Index(['ID', ' cx', ' cy', ' dx', ' dy', ' vx', ' vy', ' Cxx', ' Cxy', ' Cyy'], dtype='object')\n",
      "\n",
      "Read particle info 217 successful\n",
      "\n",
      "Read coordinate done\n",
      "\n",
      "\n",
      "Reading particle info 173...\n",
      "Index(['ID', ' cx', ' cy', ' dx', ' dy', ' vx', ' vy', ' Cxx', ' Cxy', ' Cyy'], dtype='object')\n",
      "\n",
      "Read particle info 173 successful\n",
      "\n",
      "Read coordinate done\n",
      "\n",
      "\n",
      "Reading particle info 147...\n",
      "Index(['ID', ' cx', ' cy', ' dx', ' dy', ' vx', ' vy', ' Cxx', ' Cxy', ' Cyy'], dtype='object')\n",
      "\n",
      "Read particle info 147 successful\n",
      "\n",
      "Read coordinate done\n",
      "\n",
      "\n",
      "Reading particle info 129...\n",
      "Index(['ID', ' cx', ' cy', ' dx', ' dy', ' vx', ' vy', ' Cxx', ' Cxy', ' Cyy'], dtype='object')\n",
      "\n",
      "Read particle info 129 successful\n",
      "\n",
      "Read coordinate done\n",
      "\n",
      "\n",
      "Reading particle info 126...\n",
      "Index(['ID', ' cx', ' cy', ' dx', ' dy', ' vx', ' vy', ' Cxx', ' Cxy', ' Cyy'], dtype='object')\n",
      "\n",
      "Read particle info 126 successful\n",
      "\n",
      "Read coordinate done\n",
      "\n"
     ]
    },
    {
     "data": {
      "image/png": "[encoded data removed]",
      "text/plain": [
       "<Figure size 432x288 with 1 Axes>"
      ]
     },
     "metadata": {
      "needs_background": "light"
     },
     "output_type": "display_data"
    }
   ],
   "source": [
    "# statistic of nonaffine\n",
    "steps_ = len(list_filename_)\n",
    "centers_ = []\n",
    "probability_density_ = []\n",
    "for i_ in range(steps_):\n",
    "    #     import data\n",
    "    nonaffine_ = np.load(path_nonaffines_[i_])\n",
    "    ParticleInfo_former_ = read_ParticleInfo(path_particles_[i_], index_former_[i_])\n",
    "    c_former_ = ParticleInfo_former_[:,[1,2]] # the coordinate of former particles\n",
    "    c_former_ = c_former_.astype('float64')\n",
    "    print('\\nRead coordinate done\\n')\n",
    "   # screen value to avoid BC\n",
    "    c_screened_, v_screened_ = screen_grains_by_x(x_lol_, x_upl_, c_former_, nonaffine_)\n",
    "    # remove extreme value of nonaffine\n",
    "    cnew_, vnew_ = remove_extreme_value(c_screened_, v_screened_ / np.mean(v_screened_), thresh_, y_lol_, y_upl_)  \n",
    "    # stastics the count in each bins\n",
    "    n_,bins_, patches_ = plt.hist(vnew_, bins = 1000)\n",
    "    # record n_ and center of bins\n",
    "    t_ = np.zeros(len(n_))\n",
    "    for i_ in range(len(n_)):\n",
    "        t_[i_] = (bins_[i_] + bins_[i_ + 1]) / 2\n",
    "    centers_.append(t_)\n",
    "    probability_density_.append(n_ / (t_[1] - t_[0])/ np.sum(n_))"
   ]
  },
  {
   "cell_type": "code",
   "execution_count": 10,
   "id": "7eb29c36",
   "metadata": {
    "scrolled": true
   },
   "outputs": [
    {
     "data": {
      "image/png": "[encoded data removed]",
      "text/plain": [
       "<Figure size 172.8x172.8 with 1 Axes>"
      ]
     },
     "metadata": {
      "needs_background": "light"
     },
     "output_type": "display_data"
    }
   ],
   "source": [
    "# define the exponential distribution function\n",
    "def func(x_, lambda_, a0_):\n",
    "    return  lambda_ * np.exp(-lambda_ * x_) \n",
    "plt.figure(figsize=(2.4,2.4))\n",
    "plt.axes(yscale = \"log\", xscale = \"log\")\n",
    "plt.rc('font', family = 'Arial')\n",
    "plt.rcParams['xtick.direction'] = 'in'\n",
    "plt.rcParams['ytick.direction'] = 'in'\n",
    "\n",
    "\n",
    "# popt0_, pcov0_ = curve_fit(func, centers_[0][0:20], probability_density_[0][0:20])\n",
    "# plt.plot(centers_[0][0:20], func(centers_[0][0:20], *popt0_), linestyle = '--', color = 'g', label = 'I. linear, $\\lambda$ = %.2f' % popt0_[0])\n",
    "\n",
    "# popt1_, pcov1_ = curve_fit(func, centers_[1][0:20], probability_density_[1][0:20])\n",
    "# plt.plot(centers_[1][0:20], func(centers_[1][0:20], *popt1_), linestyle = '--', color = 'y', label = 'II. yield, $\\lambda$ = %.2f' % popt1_[0])\n",
    "\n",
    "# popt2_, pcov2_ = curve_fit(func, centers_[2][0:20], probability_density_[2][0:20])\n",
    "# plt.plot(centers_[2][0:20], func(centers_[2][0:20], *popt2_), linestyle = '--', color = 'r', label = 'III. unstable stick-slip, $\\lambda$ = %.2f' % popt2_[0])\n",
    "\n",
    "# popt3_, pcov3_ = curve_fit(func, centers_[3][0:20], probability_density_[3][0:20])\n",
    "# plt.plot(centers_[3][0:20], func(centers_[3][0:20], *popt3_), linestyle = '--', color = 'b', label = 'IV. stable stick-slip, $\\lambda$ = %.2f' % popt3_[0])\n",
    "\n",
    "\n",
    "# plt.scatter(bins_large_[0:32], n_large_[0:32], c = 'none', edgecolor = 'r', linewidth = 1)\n",
    "# plt.scatter(bins_small_[0:15], n_small_[0:15], c = 'none', edgecolor = 'k', linewidth = 1)\n",
    "plt.plot(centers_[0][0:20], probability_density_[0][0:20], marker = 'o', markerfacecolor = 'w', color = 'g', linewidth = 1, label = 'k$_{0}$')\n",
    "plt.plot(centers_[1][0:20], probability_density_[1][0:20], marker = 'o', markerfacecolor = 'w', color = 'b', linewidth = 1, label = '2k$_{0}$')\n",
    "plt.plot(centers_[2][0:20], probability_density_[2][0:20], marker = 'o', markerfacecolor = 'w', color = 'darkorange', linewidth = 1, label = '4k$_{0}$')\n",
    "plt.plot(centers_[3][0:20], probability_density_[3][0:20], marker = 'o', markerfacecolor = 'w', color = 'm', linewidth = 1, label = '20k$_{0}$')\n",
    "plt.plot(centers_[4][0:20], probability_density_[4][0:20], marker = 'o', markerfacecolor = 'w', color = 'k', linewidth = 1, label = '80k$_{0}$')\n",
    "# plt.ylim(10**-2, 10**1)\n",
    "# plt.xlim(-0.005, 0.08)\n",
    "# plt.legend(frameon = False)\n",
    "\n",
    "plt.xlabel('$\\\\mathit{D}$'+ '$^\\\\mathrm{2}$' + '$_\\\\mathrm{min}$' + ' $\\\\mathrm{/ <}$' + '$\\\\mathit{D}$'+ '$^\\\\mathrm{2}$' + '$_\\\\mathrm{min}$' + '$\\\\mathrm{>}$', fontsize=10)\n",
    "plt.ylabel('Probability density', fontsize=10)\n",
    "plt.ylim(10**-1, 10**1)\n",
    "plt.xlim([10**-2, 10**0])\n",
    "\n",
    "plt.legend(fontsize = 8, )\n",
    "plt.tight_layout()\n",
    "plt.savefig('C:/Users/daizh/manuscript_shear_structure_formation_different_conditions/python_file/notebook_plot/probability_load_stiffness.svg', dpi=600, format='svg')\n",
    "plt.show()"
   ]
  },
  {
   "cell_type": "code",
   "execution_count": null,
   "id": "422abdbc",
   "metadata": {},
   "outputs": [],
   "source": []
  },
  {
   "cell_type": "code",
   "execution_count": null,
   "id": "9cd2357e",
   "metadata": {},
   "outputs": [],
   "source": []
  }
 ],
 "metadata": {
  "kernelspec": {
   "display_name": "Python 3 (ipykernel)",
   "language": "python",
   "name": "python3"
  },
  "language_info": {
   "codemirror_mode": {
    "name": "ipython",
    "version": 3
   },
   "file_extension": ".py",
   "mimetype": "text/x-python",
   "name": "python",
   "nbconvert_exporter": "python",
   "pygments_lexer": "ipython3",
   "version": "3.9.7"
  }
 },
 "nbformat": 4,
 "nbformat_minor": 5
}
