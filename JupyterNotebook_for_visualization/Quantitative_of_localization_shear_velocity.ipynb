{
 "cells": [
  {
   "cell_type": "code",
   "execution_count": 1,
   "id": "87a44c78",
   "metadata": {},
   "outputs": [],
   "source": [
    "# import pakages\n",
    "import matplotlib.pyplot as plt\n",
    "import numpy as np\n",
    "import os\n",
    "from sklearn.linear_model import LinearRegression"
   ]
  },
  {
   "cell_type": "code",
   "execution_count": 2,
   "id": "6b6e368b",
   "metadata": {},
   "outputs": [],
   "source": [
    "#  set parameters\n",
    "\n",
    "#  work path\n",
    "wd_ = 'C:/Users/daizh/manuscript_shear_structure_formation_different_conditions/python_file'\n",
    "x_label_ = ['0.01 m/s', '0.05 m/s', '0.1 m/s', '0.5 m/s', '1 m/s']\n",
    "weighted_average_ = [1.5142408819002766, 1.599192647348839, 1.4039231879925713, 1.6575856949550978, 1.672271211600104]\n",
    "variance_ = [1.5568527892247501, 1.6929923452513944, 0.9121937774977329, 1.717687605396635, 1.5688845771947943]\n",
    "# "
   ]
  },
  {
   "cell_type": "code",
   "execution_count": 3,
   "id": "2642e6c8",
   "metadata": {},
   "outputs": [],
   "source": [
    "# change wd and import functions\n",
    "#%% change current directory\n",
    "os.chdir(wd_)"
   ]
  },
  {
   "cell_type": "code",
   "execution_count": 4,
   "id": "409fd6bc",
   "metadata": {
    "scrolled": true
   },
   "outputs": [
    {
     "data": {
      "image/png": "[encoded data removed]",
      "text/plain": [
       "<Figure size 241.2x181.44 with 1 Axes>"
      ]
     },
     "metadata": {
      "needs_background": "light"
     },
     "output_type": "display_data"
    }
   ],
   "source": [
    "# plot\n",
    "\n",
    "plt.figure(figsize=(3.35,2.52))\n",
    "plt.rcParams['xtick.direction'] = 'in'\n",
    "plt.rcParams['ytick.direction'] = 'in'\n",
    "plt.rc('font', family = 'Arial')\n",
    "plt.rcParams['font.size'] = 9   \n",
    "\n",
    "t_ = np.array([1, 2, 3, 4, 5]) \n",
    "v_ = np.array(weighted_average_) \n",
    "t_ = t_.reshape(-1, 1)\n",
    "v_ = v_.reshape(-1, 1)\n",
    "linear_model_ = LinearRegression(fit_intercept=True)\n",
    "linear_model_.fit(t_, v_)\n",
    "x_predict_ = np.array([1, 2, 3, 4, 5]) \n",
    "x_predict_ = x_predict_.reshape(-1, 1)\n",
    "y_predict_ = linear_model_.predict(x_predict_)\n",
    "plt.plot(x_label_, y_predict_, linewidth = 1.5, color = 'k', linestyle = '--')\n",
    "\n",
    "plt.plot(x_label_, weighted_average_,  marker = 'o',markerfacecolor = 'w', linewidth = 1, color = 'r')\n",
    "plt.ylim([0.8,1.8])\n",
    "plt.margins(0.08)\n",
    "\n",
    "plt.ylabel('Estimated $\\\\mathit{y}$ of PSZ (mm)', fontsize = 10)\n",
    "plt.xlabel('Shear velocity ' + '$\\\\mathit{V}$', fontsize = 10)\n",
    "plt.tight_layout()\n",
    "plt.savefig('C:/Users/daizh/manuscript_shear_structure_formation_different_conditions/python_file/notebook_plot/Estimated_y_of_PSZ_shear_velocity.pdf', format='pdf')\n",
    "plt.show()\n",
    "# plt.xlim([-0.1, 8])"
   ]
  },
  {
   "cell_type": "code",
   "execution_count": 5,
   "id": "8b1dcd0f",
   "metadata": {},
   "outputs": [
    {
     "data": {
      "image/png": "[encoded data removed]",
      "text/plain": [
       "<Figure size 241.2x181.44 with 1 Axes>"
      ]
     },
     "metadata": {
      "needs_background": "light"
     },
     "output_type": "display_data"
    }
   ],
   "source": [
    "# plot\n",
    "\n",
    "plt.figure(figsize=(3.35,2.52))\n",
    "plt.rcParams['xtick.direction'] = 'in'\n",
    "plt.rcParams['ytick.direction'] = 'in'\n",
    "plt.rc('font', family = 'Arial')\n",
    "plt.rcParams['font.size'] = 9   \n",
    "\n",
    "t_ = np.array([1, 2, 3, 4, 5]) \n",
    "v_ = np.array(variance_) \n",
    "t_ = t_.reshape(-1, 1)\n",
    "v_ = v_.reshape(-1, 1)\n",
    "linear_model_ = LinearRegression(fit_intercept=True)\n",
    "linear_model_.fit(t_, v_)\n",
    "x_predict_ = np.array([1, 2, 3, 4, 5]) \n",
    "x_predict_ = x_predict_.reshape(-1, 1)\n",
    "y_predict_ = linear_model_.predict(x_predict_)\n",
    "plt.plot(x_label_, y_predict_, linewidth = 1.5, color = 'k', linestyle = '--')\n",
    "\n",
    "plt.plot(x_label_, variance_,  marker = 'o',markerfacecolor = 'w', linewidth = 1, color = 'r')\n",
    "plt.ylim([0,2.4])\n",
    "plt.yticks([0,0.4, 0.8, 1.2, 1.6, 2.0, 2.4])\n",
    "plt.margins(0.08)\n",
    "\n",
    "plt.ylabel('Variance (mm$^\\\\mathrm{2}$)', fontsize = 10)\n",
    "plt.xlabel('Shear velocity ' + '$\\\\mathit{V}$', fontsize = 10)\n",
    "plt.tight_layout()\n",
    "plt.savefig('C:/Users/daizh/manuscript_shear_structure_formation_different_conditions/python_file/notebook_plot/variance_of_nonaffine_shear_velocity.pdf', format='pdf')\n",
    "plt.show()\n",
    "# plt.xlim([-0.1, 8])"
   ]
  },
  {
   "cell_type": "code",
   "execution_count": null,
   "id": "20a12d18",
   "metadata": {},
   "outputs": [],
   "source": []
  }
 ],
 "metadata": {
  "kernelspec": {
   "display_name": "Python 3 (ipykernel)",
   "language": "python",
   "name": "python3"
  },
  "language_info": {
   "codemirror_mode": {
    "name": "ipython",
    "version": 3
   },
   "file_extension": ".py",
   "mimetype": "text/x-python",
   "name": "python",
   "nbconvert_exporter": "python",
   "pygments_lexer": "ipython3",
   "version": "3.9.7"
  }
 },
 "nbformat": 4,
 "nbformat_minor": 5
}
