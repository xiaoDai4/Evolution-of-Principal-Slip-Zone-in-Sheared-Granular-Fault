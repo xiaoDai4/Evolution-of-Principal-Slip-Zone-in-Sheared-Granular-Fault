{
 "cells": [
  {
   "cell_type": "code",
   "execution_count": 1,
   "id": "e0c99541",
   "metadata": {},
   "outputs": [],
   "source": [
    "# import package\n",
    "import os \n",
    "import sys\n",
    "import pandas as pd\n",
    "import numpy as np\n",
    "import matplotlib.pyplot as plt\n",
    "from scipy.interpolate import griddata\n",
    "from matplotlib import cm, ticker\n"
   ]
  },
  {
   "cell_type": "code",
   "execution_count": 2,
   "id": "d61c2ea4",
   "metadata": {},
   "outputs": [],
   "source": [
    "#  set parameters\n",
    "\n",
    "#  work path\n",
    "wd_ = 'D:\\\\sheared_granular_gouge_different_evironment_condition\\\\normal_stress\\\\20MPa\\\\PythonFile_CalculateGranularQuantity'\n",
    "condition_ = '20MPa_1p5'\n",
    "\n",
    "#%% define index to be calculated\n",
    "index_former_ = [467]\n",
    "index_later_ = [547]\n",
    "if len(index_former_) != len(index_later_):\n",
    "    print('The program terminated!!!\\nThe size of \\'index_former\\' and \\'index_later\\' is not the same')\n",
    "    sys.exit()\n",
    "    \n",
    "# set the mesh grid\n",
    "precision_ = 100\n",
    "x_lol_ = 0.5e-3 # lower limit of x\n",
    "x_upl_ = 3.5e-3 # upper limit of x\n",
    "y_lol_ = 1e-3 # lower limit of y\n",
    "y_upl_ = 3e-3 # upper limit of y\n",
    "xx_ = np.linspace(x_lol_,x_upl_, num = 2 * precision_)\n",
    "yy_ = np.linspace(y_lol_,y_upl_, num = precision_)\n",
    "grid_xx_, grid_yy_ = np.meshgrid(xx_, yy_)\n",
    "\n",
    "# set the plot parameter\n",
    "vmax_ = 10e2\n",
    "vmin_ = 10e-5\n",
    "\n",
    "# set the translate threshold\n",
    "thresh_trans_ = 0\n",
    "\n",
    "# set the average layers\n",
    "n_layers_ = 15\n",
    "\n",
    "# set the filter extrem threshold\n",
    "thresh_ = float('Inf')\n",
    "\n",
    "# change wd and import functions\n",
    "#%% change current directory\n",
    "os.chdir(wd_)\n",
    "# import functions\n",
    "from import_data import *"
   ]
  },
  {
   "cell_type": "code",
   "execution_count": 3,
   "id": "4260d006",
   "metadata": {},
   "outputs": [],
   "source": [
    "#%% Screen particles according to x to avoid effects caused by BC\n",
    "def screen_grains_by_x(l_lim_, u_lim_, c_, v_):\n",
    "    '''\n",
    "    l_lim_ - lower limit\n",
    "    u_lim_ - upper limit\n",
    "    c_ - c coodinate\n",
    "    v_ - corresponding variables\n",
    "    \n",
    "    returns:\n",
    "        cnew_ - the  coodinate in a centain range\n",
    "        vnew_ - the correspnding coodinate in a certain range\n",
    "    \n",
    "    '''\n",
    "    cnew_, vnew_ = [], [] # initialize\n",
    "    for i_ in range(c_.shape[0]):\n",
    "        \n",
    "        if c_[i_][0] > l_lim_ and c_[i_][0]  < u_lim_:\n",
    "            cnew_.append(c_[i_][:])\n",
    "            vnew_.append(v_[i_])\n",
    "\n",
    "    return np.array(cnew_), np.array(vnew_)  # return handled coodinate and variables.\n",
    "\n",
    "# cnew_, ynew_ = screen_grains_by_x(0.5, 3.5, x_, y_)\n",
    "# cnew_, vnew_ = screen_grains_by_x(0.5, 3.5, x_, vx_)\n"
   ]
  },
  {
   "cell_type": "code",
   "execution_count": 4,
   "id": "f64d406a",
   "metadata": {},
   "outputs": [
    {
     "name": "stdout",
     "output_type": "stream",
     "text": [
      "\n",
      "Read nonaffine from 467 to 547 done\n",
      "\n",
      "\n",
      "Reading particle info 467...\n",
      "Index(['ID', ' cx', ' cy', ' dx', ' dy', ' vx', ' vy', ' Cxx', ' Cxy', ' Cyy'], dtype='object')\n",
      "\n",
      "Read particle info 467 successful\n",
      "\n",
      "Read coordinate done\n",
      "\n",
      "\n",
      "Interpolation done\n",
      "\n"
     ]
    },
    {
     "data": {
      "image/png": "[encoded data removed]",
      "text/plain": [
       "<Figure size 360x181.44 with 2 Axes>"
      ]
     },
     "metadata": {
      "needs_background": "light"
     },
     "output_type": "display_data"
    },
    {
     "name": "stdout",
     "output_type": "stream",
     "text": [
      "\n",
      "-----------------------------------------------------\n",
      "\n",
      "\n",
      "!!!!!!!!!!!!!!!!!!!!!!!!!!!!!!!!!!!!!!!!!!!!!!!!!!!!!!!!!!!\n",
      "\n"
     ]
    }
   ],
   "source": [
    "#%% start the calculation\n",
    "steps_ = len(index_former_)\n",
    "for i_ in range(steps_):\n",
    "    # import data\n",
    "    nonaffine_ = np.load('D:/sheared_granular_gouge_different_evironment_condition/python_nonaffine_displacement_data/nonaffine_of_%s_from_%d_to_%d.npy' % \\\n",
    "            (condition_, index_former_[i_], index_later_[i_]))\n",
    "    print('\\nRead nonaffine from %d to %d done\\n' % (index_former_[i_], index_later_[i_]))\n",
    "    ParticleInfo_former_ = read_ParticleInfo('../particle_info/particle_info_%d.txt', index_former_[i_])\n",
    "    c_former_ = ParticleInfo_former_[:,[1,2]] # the coordinate of former particles\n",
    "    c_former_ = c_former_.astype('float64')\n",
    "    print('\\nRead coordinate done\\n')\n",
    "    # traslate value\n",
    "    for j_ in range(c_former_.shape[0]):\n",
    "        c_former_[j_][0] = c_former_[j_][0] + thresh_trans_ / 1000\n",
    "        if c_former_[j_][0] > 4 / 1000:\n",
    "            c_former_[j_][0] -= 4 / 1000\n",
    "    # screen value to avoid BC\n",
    "    c_screened_, v_screened_ = screen_grains_by_x(x_lol_, x_upl_, c_former_, nonaffine_)\n",
    "    \n",
    "    # interpolation\n",
    "    nonaffine_interpolation_ = griddata(c_screened_, v_screened_ / np.mean(v_screened_), (grid_xx_, grid_yy_), method='linear')\n",
    "    print('\\nInterpolation done\\n')\n",
    "    # limit the maximum and minimum\n",
    "    nonaffine_interpolation_[ nonaffine_interpolation_>vmax_] = vmax_\n",
    "    nonaffine_interpolation_[ nonaffine_interpolation_<vmin_] = vmin_\n",
    "    # plot and save\n",
    "    plt.figure(figsize=(5,2.52))\n",
    "    plt.rc('font', family = 'Arial')\n",
    "    plt.rcParams['font.size'] = 9\n",
    "    plt.contourf(grid_xx_*1000, grid_yy_*1000 - 1, nonaffine_interpolation_,locator=ticker.LogLocator(), \\\n",
    "                 levels = 10000, cmap = 'seismic', vmax = vmax_, vmin = vmin_, )\n",
    "\n",
    "    plt.ylabel('$\\\\mathit{y}$ (mm)', fontsize = 10)\n",
    "    plt.xlabel('$\\\\mathit{x}$ (mm)', fontsize = 10)\n",
    "#     plt.rcParams['xtick.direction'] = 'in'\n",
    "#     plt.rcParams['ytick.direction'] = 'in'\n",
    "    cb = plt.colorbar()\n",
    "    cb.set_label(label = '$\\\\mathit{D}$'+ '$^\\\\mathrm{2}$' + '$_\\\\mathrm{min}$' + ' $\\\\mathrm{/ <}$' + '$\\\\mathit{D}$'+ '$^\\\\mathrm{2}$' + '$_\\\\mathrm{min}$' + '$\\\\mathrm{>}$')\n",
    "    plt.savefig('C:/Users/daizh/manuscript_shear_structure_formation_different_conditions/python_file/notebook_plot/nonaffine_of_%s_from_%d_to_%d.svg' % (condition_, index_former_[i_], index_later_[i_]), dpi=600, format='svg')\n",
    "    plt.show()\n",
    "    print('\\n-----------------------------------------------------\\n')\n",
    "print('\\n!!!!!!!!!!!!!!!!!!!!!!!!!!!!!!!!!!!!!!!!!!!!!!!!!!!!!!!!!!!\\n') \n",
    "    "
   ]
  },
  {
   "cell_type": "code",
   "execution_count": null,
   "id": "92f7521c",
   "metadata": {},
   "outputs": [],
   "source": []
  },
  {
   "cell_type": "code",
   "execution_count": 5,
   "id": "c471f4fa",
   "metadata": {},
   "outputs": [],
   "source": [
    "# define a function to statistic vertical to fault\n",
    "#%% average over a certain distance\n",
    "def average_along_y(y_, v_, n_):\n",
    "    '''\n",
    "    y_ - the y coodinate\n",
    "    v_ - the corresponding coordinate\n",
    "    n_ - the number of bins\n",
    "\n",
    "    Returns\n",
    "    -------\n",
    "    centers_ - the center of each bins\n",
    "    values_ - the average value of each bins\n",
    "\n",
    "    '''\n",
    "    centers_, values_ = np.zeros(n_), np.zeros(n_)\n",
    "    count_ = np.zeros(n_)\n",
    "    max_ = np.max(y_)\n",
    "    min_ = np.min(y_)\n",
    "    range_ = (max_ - min_)\n",
    "    bins_ = np.linspace(min_, max_, n_ + 1)\n",
    "\n",
    "    # calculate centers\n",
    "    for i_ in range(n_):\n",
    "        centers_[i_] = (bins_[i_] + bins_[i_+ 1]) / 2\n",
    "    \n",
    "    # calculate values\n",
    "    for i_ in range(len(y_)):\n",
    "        index_ = int( (y_[i_] - min_) / (max_ - min_) * n_ )\n",
    "        if index_ == n_:\n",
    "            index_ -= 1\n",
    "        values_[index_] += v_[i_]\n",
    "        count_[index_] += 1\n",
    "        # print(index_)\n",
    "    values_ = values_/count_\n",
    "    # print(max_)\n",
    "    # print(min_)\n",
    "    # print(centers_)\n",
    "    return centers_, values_\n",
    "    \n",
    "#  centers_, values_ = average_along_y(ynew_, vnew_, 10)  \n",
    "\n"
   ]
  },
  {
   "cell_type": "code",
   "execution_count": 6,
   "id": "344e6fde",
   "metadata": {},
   "outputs": [],
   "source": [
    "# define a function to delete extreme value\n",
    "#%% remove extreme value \n",
    "def remove_extreme_value(c_, v_, thresh_, y_lol_, y_upl_):\n",
    "    '''\n",
    "    c_ - c coodinate\n",
    "    v_ - corresponding variables\n",
    "    thresh_ - the threshold\n",
    "    \n",
    "    returns:\n",
    "        cnew_ - the coodinate with no extrem values\n",
    "        vnew_ - the correspnding coodinate \n",
    "    \n",
    "    '''\n",
    "    cnew_, vnew_ = [], [] # initialize\n",
    "    for i_ in range(c_.shape[0]):\n",
    "        if v_[i_] <= thresh_:\n",
    "            if c_[i_][1] < y_upl_:\n",
    "                if c_[i_][1] > y_lol_:\n",
    "                    cnew_.append(c_[i_, :])\n",
    "                    vnew_.append(v_[i_])\n",
    "\n",
    "    return np.array(cnew_), np.array(vnew_)  # return handled coodinate and variables.\n",
    "\n",
    "# cnew_, vnew_ = remove_extreme_value(c_, v_, thresh_)\n"
   ]
  },
  {
   "cell_type": "code",
   "execution_count": 7,
   "id": "0c933e4b",
   "metadata": {},
   "outputs": [
    {
     "name": "stdout",
     "output_type": "stream",
     "text": [
      "\n",
      "Read nonaffine from 467 to 547 done\n",
      "\n",
      "\n",
      "Reading particle info 467...\n",
      "Index(['ID', ' cx', ' cy', ' dx', ' dy', ' vx', ' vy', ' Cxx', ' Cxy', ' Cyy'], dtype='object')\n",
      "\n",
      "Read particle info 467 successful\n",
      "\n",
      "Read coordinate done\n",
      "\n"
     ]
    },
    {
     "data": {
      "image/png": "[encoded data removed]",
      "text/plain": [
       "<Figure size 241.2x181.44 with 1 Axes>"
      ]
     },
     "metadata": {
      "needs_background": "light"
     },
     "output_type": "display_data"
    }
   ],
   "source": [
    "for i_ in range(steps_):\n",
    "    # import data\n",
    "    np.load('D:/sheared_granular_gouge_different_evironment_condition/python_nonaffine_displacement_data/nonaffine_of_%s_from_%d_to_%d.npy' % \\\n",
    "            (condition_, index_former_[i_], index_later_[i_]))\n",
    "    print('\\nRead nonaffine from %d to %d done\\n' % (index_former_[i_], index_later_[i_]))\n",
    "    ParticleInfo_former_ = read_ParticleInfo('../particle_info/particle_info_%d.txt', index_former_[i_])\n",
    "    c_former_ = ParticleInfo_former_[:,[1,2]] # the coordinate of former particles\n",
    "    c_former_ = c_former_.astype('float64')\n",
    "    print('\\nRead coordinate done\\n')\n",
    "    # screen value to avoid BC\n",
    "    c_screened_, v_screened_ = screen_grains_by_x(x_lol_, x_upl_, c_former_, nonaffine_)\n",
    "    # remove extreme value of nonaffine\n",
    "    cnew_, vnew_ = remove_extreme_value(c_screened_, v_screened_ / np.mean(v_screened_), thresh_, y_lol_, y_upl_)\n",
    "    # statictics along coordinate y\n",
    "    centers_, values_ = average_along_y(cnew_[:, 1], vnew_, n_layers_)   \n",
    "    # plot the results\n",
    "    plt.figure(figsize=(3.35,2.52))\n",
    "    plt.rcParams['xtick.direction'] = 'in'\n",
    "    plt.rcParams['ytick.direction'] = 'in'\n",
    "    plt.rc('font', family = 'Arial')\n",
    "    plt.rcParams['font.size'] = 9   \n",
    "    plt.plot(values_, centers_ * 1000 - 1, marker = 'o',markerfacecolor = 'w', linewidth = 1, color = 'b')\n",
    "    plt.ylim([0,2])\n",
    "    plt.xlim([-0.1, 8])\n",
    "    plt.ylabel('$\\\\mathit{y}$ (mm)', fontsize = 10)\n",
    "    plt.xlabel('$\\\\mathit{D}$'+ '$^\\\\mathrm{2}$' + '$_\\\\mathrm{min}$' + ' $\\\\mathrm{/ <}$' + '$\\\\mathit{D}$'+ '$^\\\\mathrm{2}$' + '$_\\\\mathrm{min}$' + '$\\\\mathrm{>}$', fontsize = 10)\n",
    "    plt.tight_layout()\n",
    "    # plt.title('Stick')\n",
    "#     plt.text( 9, 0.0002, 'Stick')\n",
    "\n",
    "    plt.savefig('C:/Users/daizh/manuscript_shear_structure_formation_different_conditions/python_file/notebook_plot/average_of_nonaffine_of_%s_from_%d_to_%d.svg' % (condition_, index_former_[i_], index_later_[i_]), format='svg')\n",
    "    plt.show()"
   ]
  },
  {
   "cell_type": "code",
   "execution_count": 8,
   "id": "22a426ca",
   "metadata": {},
   "outputs": [
    {
     "name": "stdout",
     "output_type": "stream",
     "text": [
      "0.8917480121975255\n",
      "0.655735508364858\n"
     ]
    }
   ],
   "source": [
    "# calculate the weighted average and the variance\n",
    "weighted_average_ = np.sum(values_ * (centers_ * 1000 - 1)) / np.sum(values_)\n",
    "variance_ = np.var(values_)\n",
    "print(weighted_average_)\n",
    "print(variance_)"
   ]
  }
 ],
 "metadata": {
  "kernelspec": {
   "display_name": "Python 3 (ipykernel)",
   "language": "python",
   "name": "python3"
  },
  "language_info": {
   "codemirror_mode": {
    "name": "ipython",
    "version": 3
   },
   "file_extension": ".py",
   "mimetype": "text/x-python",
   "name": "python",
   "nbconvert_exporter": "python",
   "pygments_lexer": "ipython3",
   "version": "3.9.7"
  }
 },
 "nbformat": 4,
 "nbformat_minor": 5
}
